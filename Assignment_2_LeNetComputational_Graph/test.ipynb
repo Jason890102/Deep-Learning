{
 "cells": [
  {
   "cell_type": "code",
   "execution_count": 6,
   "id": "0e0b322b",
   "metadata": {},
   "outputs": [],
   "source": [
    "import numpy as np\n",
    "\n",
    "class Perceptron:\n",
    "    def __init__(self, input_size, output_size):\n",
    "        self.input_size = input_size\n",
    "        self.output_size = output_size\n",
    "        self.weights = np.random.randn(output_size, input_size)\n",
    "        self.bias = np.zeros((output_size, 1))\n",
    "\n",
    "    def forward(self, x):\n",
    "        z = np.dot(self.weights, x) + self.bias\n",
    "        a = self.sigmoid(z)\n",
    "        return a\n",
    "\n",
    "    def sigmoid(self, x):\n",
    "        return 1 / (1 + np.exp(-x))\n",
    "\n",
    "    def sigmoid_derivative(self, x):\n",
    "        s = self.sigmoid(x)\n",
    "        return s * (1 - s)\n",
    "\n",
    "    def backward(self, x, y, a):\n",
    "        dz = (a - y) * self.sigmoid_derivative(a)\n",
    "        dw = np.dot(dz, x.T)\n",
    "        db = dz\n",
    "        dx = np.dot(self.weights.T, dz)\n",
    "        return dx, dw, db\n",
    "\n",
    "class TwoLayerPerceptron:\n",
    "    def __init__(self, input_size, hidden_size, output_size):\n",
    "        self.input_size = input_size\n",
    "        self.hidden_size = hidden_size\n",
    "        self.output_size = output_size\n",
    "        self.perceptron1 = Perceptron(input_size, hidden_size)\n",
    "        self.perceptron2 = Perceptron(hidden_size, output_size)\n",
    "\n",
    "    def forward(self, x):\n",
    "        a1 = self.perceptron1.forward(x)\n",
    "        a2 = self.perceptron2.forward(a1)\n",
    "        return a2\n",
    "\n",
    "    def backward(self, x, y, a):\n",
    "        da2, dw2, db2 = self.perceptron2.backward(a1, y, a)\n",
    "        da1, dw1, db1 = self.perceptron1.backward(x, a1, da2)\n",
    "        return dw1, db1, dw2, db2\n"
   ]
  },
  {
   "cell_type": "code",
   "execution_count": 7,
   "id": "f1840dc1",
   "metadata": {},
   "outputs": [
    {
     "ename": "NameError",
     "evalue": "name 'a1' is not defined",
     "output_type": "error",
     "traceback": [
      "\u001b[1;31m---------------------------------------------------------------------------\u001b[0m",
      "\u001b[1;31mNameError\u001b[0m                                 Traceback (most recent call last)",
      "\u001b[1;32m~\\AppData\\Local\\Temp\\ipykernel_9364\\1059823158.py\u001b[0m in \u001b[0;36m<module>\u001b[1;34m\u001b[0m\n\u001b[0;32m     61\u001b[0m     \u001b[1;31m# 计算误差和梯度\u001b[0m\u001b[1;33m\u001b[0m\u001b[1;33m\u001b[0m\u001b[1;33m\u001b[0m\u001b[0m\n\u001b[0;32m     62\u001b[0m     \u001b[0merror\u001b[0m \u001b[1;33m=\u001b[0m \u001b[0my\u001b[0m\u001b[1;33m.\u001b[0m\u001b[0mT\u001b[0m \u001b[1;33m-\u001b[0m \u001b[0ma\u001b[0m\u001b[1;33m\u001b[0m\u001b[1;33m\u001b[0m\u001b[0m\n\u001b[1;32m---> 63\u001b[1;33m     \u001b[0mdw1\u001b[0m\u001b[1;33m,\u001b[0m \u001b[0mdb1\u001b[0m\u001b[1;33m,\u001b[0m \u001b[0mdw2\u001b[0m\u001b[1;33m,\u001b[0m \u001b[0mdb2\u001b[0m \u001b[1;33m=\u001b[0m \u001b[0mmodel\u001b[0m\u001b[1;33m.\u001b[0m\u001b[0mbackward\u001b[0m\u001b[1;33m(\u001b[0m\u001b[0mX\u001b[0m\u001b[1;33m.\u001b[0m\u001b[0mT\u001b[0m\u001b[1;33m,\u001b[0m \u001b[0my\u001b[0m\u001b[1;33m.\u001b[0m\u001b[0mT\u001b[0m\u001b[1;33m,\u001b[0m \u001b[0ma\u001b[0m\u001b[1;33m)\u001b[0m\u001b[1;33m\u001b[0m\u001b[1;33m\u001b[0m\u001b[0m\n\u001b[0m\u001b[0;32m     64\u001b[0m \u001b[1;33m\u001b[0m\u001b[0m\n\u001b[0;32m     65\u001b[0m     \u001b[1;31m# 更新权重和偏置\u001b[0m\u001b[1;33m\u001b[0m\u001b[1;33m\u001b[0m\u001b[1;33m\u001b[0m\u001b[0m\n",
      "\u001b[1;32m~\\AppData\\Local\\Temp\\ipykernel_9364\\1059823158.py\u001b[0m in \u001b[0;36mbackward\u001b[1;34m(self, x, y, a)\u001b[0m\n\u001b[0;32m     41\u001b[0m \u001b[1;33m\u001b[0m\u001b[0m\n\u001b[0;32m     42\u001b[0m     \u001b[1;32mdef\u001b[0m \u001b[0mbackward\u001b[0m\u001b[1;33m(\u001b[0m\u001b[0mself\u001b[0m\u001b[1;33m,\u001b[0m \u001b[0mx\u001b[0m\u001b[1;33m,\u001b[0m \u001b[0my\u001b[0m\u001b[1;33m,\u001b[0m \u001b[0ma\u001b[0m\u001b[1;33m)\u001b[0m\u001b[1;33m:\u001b[0m\u001b[1;33m\u001b[0m\u001b[1;33m\u001b[0m\u001b[0m\n\u001b[1;32m---> 43\u001b[1;33m         \u001b[0mda2\u001b[0m\u001b[1;33m,\u001b[0m \u001b[0mdw2\u001b[0m\u001b[1;33m,\u001b[0m \u001b[0mdb2\u001b[0m \u001b[1;33m=\u001b[0m \u001b[0mself\u001b[0m\u001b[1;33m.\u001b[0m\u001b[0mperceptron2\u001b[0m\u001b[1;33m.\u001b[0m\u001b[0mbackward\u001b[0m\u001b[1;33m(\u001b[0m\u001b[0ma1\u001b[0m\u001b[1;33m,\u001b[0m \u001b[0my\u001b[0m\u001b[1;33m,\u001b[0m \u001b[0ma\u001b[0m\u001b[1;33m)\u001b[0m\u001b[1;33m\u001b[0m\u001b[1;33m\u001b[0m\u001b[0m\n\u001b[0m\u001b[0;32m     44\u001b[0m         \u001b[0mda1\u001b[0m\u001b[1;33m,\u001b[0m \u001b[0mdw1\u001b[0m\u001b[1;33m,\u001b[0m \u001b[0mdb1\u001b[0m \u001b[1;33m=\u001b[0m \u001b[0mself\u001b[0m\u001b[1;33m.\u001b[0m\u001b[0mperceptron1\u001b[0m\u001b[1;33m.\u001b[0m\u001b[0mbackward\u001b[0m\u001b[1;33m(\u001b[0m\u001b[0mx\u001b[0m\u001b[1;33m,\u001b[0m \u001b[0ma1\u001b[0m\u001b[1;33m,\u001b[0m \u001b[0mda2\u001b[0m\u001b[1;33m)\u001b[0m\u001b[1;33m\u001b[0m\u001b[1;33m\u001b[0m\u001b[0m\n\u001b[0;32m     45\u001b[0m         \u001b[1;32mreturn\u001b[0m \u001b[0mdw1\u001b[0m\u001b[1;33m,\u001b[0m \u001b[0mdb1\u001b[0m\u001b[1;33m,\u001b[0m \u001b[0mdw2\u001b[0m\u001b[1;33m,\u001b[0m \u001b[0mdb2\u001b[0m\u001b[1;33m\u001b[0m\u001b[1;33m\u001b[0m\u001b[0m\n",
      "\u001b[1;31mNameError\u001b[0m: name 'a1' is not defined"
     ]
    }
   ],
   "source": [
    "import numpy as np\n",
    "\n",
    "class Perceptron:\n",
    "    def __init__(self, input_size, output_size):\n",
    "        self.input_size = input_size\n",
    "        self.output_size = output_size\n",
    "        self.weights = np.random.randn(output_size, input_size)\n",
    "        self.bias = np.zeros((output_size, 1))\n",
    "\n",
    "    def forward(self, x):\n",
    "        z = np.dot(self.weights, x) + self.bias\n",
    "        a = self.sigmoid(z)\n",
    "        return a\n",
    "\n",
    "    def sigmoid(self, x):\n",
    "        return np.max(0,x)\n",
    "\n",
    "    def sigmoid_derivative(self, x):\n",
    "        s = self.sigmoid(x)\n",
    "        return s * (1 - s)\n",
    "\n",
    "    def backward(self, x, y, a):\n",
    "        dz = (a - y) * self.sigmoid_derivative(a)\n",
    "        dw = np.dot(dz, x.T)\n",
    "        db = dz\n",
    "        dx = np.dot(self.weights.T, dz)\n",
    "        return dx, dw, db\n",
    "\n",
    "class TwoLayerPerceptron:\n",
    "    def __init__(self, input_size, hidden_size, output_size):\n",
    "        self.input_size = input_size\n",
    "        self.hidden_size = hidden_size\n",
    "        self.output_size = output_size\n",
    "        self.perceptron1 = Perceptron(input_size, hidden_size)\n",
    "        self.perceptron2 = Perceptron(hidden_size, output_size)\n",
    "\n",
    "    def forward(self, x):\n",
    "        a1 = self.perceptron1.forward(x)\n",
    "        a2 = self.perceptron2.forward(a1)\n",
    "        return a2\n",
    "\n",
    "    def backward(self, x, y, a):\n",
    "        da2, dw2, db2 = self.perceptron2.backward(a1, y, a)\n",
    "        da1, dw1, db1 = self.perceptron1.backward(x, a1, da2)\n",
    "        return dw1, db1, dw2, db2\n",
    "\n",
    "# 使用示例数据\n",
    "X = np.array([[0,0,1],[0,1,1],[1,0,1],[1,1,1]])\n",
    "y = np.array([[0],[1],[1],[0]])\n",
    "\n",
    "# 创建一个双层感知器\n",
    "model = TwoLayerPerceptron(input_size = 3, hidden_size = 4,output_size = 1)\n",
    "\n",
    "# 训练模型\n",
    "epochs = 10000\n",
    "learning_rate = 0.1\n",
    "for i in range(epochs):\n",
    "    # 前向传播\n",
    "    a = model.forward(X.T)\n",
    "\n",
    "    # 计算误差和梯度\n",
    "    error = y.T - a\n",
    "    dw1, db1, dw2, db2 = model.backward(X.T, y.T, a)\n",
    "\n",
    "    # 更新权重和偏置\n",
    "    model.perceptron1.weights += learning_rate * dw1\n",
    "    model.perceptron1.bias += learning_rate * db1\n",
    "    model.perceptron2.weights += learning_rate * dw2\n",
    "    model.perceptron2.bias += learning_rate * db2\n",
    "\n",
    "# 输出预测结果\n",
    "print(model.forward(X.T))\n"
   ]
  },
  {
   "cell_type": "code",
   "execution_count": 8,
   "id": "dc8095aa",
   "metadata": {},
   "outputs": [
    {
     "data": {
      "text/plain": [
       "(48, 65536)"
      ]
     },
     "execution_count": 8,
     "metadata": {},
     "output_type": "execute_result"
    }
   ],
   "source": [
    "H = 256\n",
    "W = 256\n",
    "C = 3\n",
    "FH = 4\n",
    "FW = 4\n",
    "\n",
    "x_col = np.zeros((C * FH * FW, H * W))\n",
    "x_col.shape"
   ]
  },
  {
   "cell_type": "code",
   "execution_count": 9,
   "id": "e1479a58",
   "metadata": {},
   "outputs": [
    {
     "ename": "NameError",
     "evalue": "name 'w' is not defined",
     "output_type": "error",
     "traceback": [
      "\u001b[1;31m---------------------------------------------------------------------------\u001b[0m",
      "\u001b[1;31mNameError\u001b[0m                                 Traceback (most recent call last)",
      "\u001b[1;32m~\\AppData\\Local\\Temp\\ipykernel_9364\\3213057521.py\u001b[0m in \u001b[0;36m<module>\u001b[1;34m\u001b[0m\n\u001b[1;32m----> 1\u001b[1;33m \u001b[0mw_row\u001b[0m \u001b[1;33m=\u001b[0m \u001b[0mw\u001b[0m\u001b[1;33m.\u001b[0m\u001b[0mreshape\u001b[0m\u001b[1;33m(\u001b[0m\u001b[0mF\u001b[0m\u001b[1;33m,\u001b[0m \u001b[0mC\u001b[0m \u001b[1;33m*\u001b[0m \u001b[0mFH\u001b[0m \u001b[1;33m*\u001b[0m \u001b[0mFW\u001b[0m\u001b[1;33m)\u001b[0m\u001b[1;33m\u001b[0m\u001b[1;33m\u001b[0m\u001b[0m\n\u001b[0m\u001b[0;32m      2\u001b[0m \u001b[0mw_row\u001b[0m\u001b[1;33m\u001b[0m\u001b[1;33m\u001b[0m\u001b[0m\n",
      "\u001b[1;31mNameError\u001b[0m: name 'w' is not defined"
     ]
    }
   ],
   "source": [
    "w_row = w.reshape(F, C * FH * FW)\n",
    "w_row"
   ]
  },
  {
   "cell_type": "code",
   "execution_count": 10,
   "id": "8dc37445",
   "metadata": {},
   "outputs": [],
   "source": [
    "def conv_forward(x, w, b):\n",
    "  N, C, H, W = x.shape \n",
    "  F, _, FH, FW = w.shape\n",
    "\n",
    "  # other parameters. Set so that the input shape remains unchanged \n",
    "  stride = 1                  # stride to apply filter\n",
    "  padding =  (FH - 1) // 2     # padding on each side \n",
    "\n",
    "  out = np.zeros((N, F, H, W))\n",
    "\n",
    "  padded_x = np.pad(x, ((0, 0), (0, 0), (padding, padding), (padding, padding)), mode='constant')\n",
    "  _, _, padded_H, padded_W = padded_x.shape\n",
    "\n",
    "  x_col = np.zeros((C * FH * FW, H * W))\n",
    "  w_row = w.reshape(F, C * FH * FW)\n",
    "\n",
    "  for i in range(N):\n",
    "    c = 0\n",
    "    for j in range(0, padded_H - FH + 1, stride):\n",
    "      for k in range(0, padded_W - FW + 1, stride):\n",
    "        x_col[:, c] = padded_x[i, :, j:j+FH, k:k+FW].reshape(C * FH * FW)\n",
    "        c += 1\n",
    "    out[i, :] = (np.dot(w_row, x_col) + b.reshape(-1, 1)).reshape(F, H, W)\n",
    "  \n",
    "  cache = (x, w, b, stride, padding)\n",
    "  return out, cache "
   ]
  },
  {
   "cell_type": "code",
   "execution_count": null,
   "id": "ab3c2b33",
   "metadata": {},
   "outputs": [],
   "source": []
  }
 ],
 "metadata": {
  "kernelspec": {
   "display_name": "Python 3 (ipykernel)",
   "language": "python",
   "name": "python3"
  },
  "language_info": {
   "codemirror_mode": {
    "name": "ipython",
    "version": 3
   },
   "file_extension": ".py",
   "mimetype": "text/x-python",
   "name": "python",
   "nbconvert_exporter": "python",
   "pygments_lexer": "ipython3",
   "version": "3.7.16"
  }
 },
 "nbformat": 4,
 "nbformat_minor": 5
}
